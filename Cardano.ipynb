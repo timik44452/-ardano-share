{
 "cells": [
  {
   "cell_type": "code",
   "execution_count": 99,
   "metadata": {},
   "outputs": [],
   "source": [
    "import sys\n",
    "import numpy as np\n",
    "import matplotlib.pyplot as plt\n",
    "import scipy.optimize as opt\n",
    "\n",
    "from scipy.special import cbrt"
   ]
  },
  {
   "cell_type": "markdown",
   "metadata": {},
   "source": [
    "# Решение кубических уравнений методом кардано"
   ]
  },
  {
   "cell_type": "markdown",
   "metadata": {},
   "source": [
    "Дано кубичесткое уравнение P, вида:\n",
    "$$\n",
    "ax^3 + bx^2 + cx + d = 0, a \\ne 0\n",
    "$$"
   ]
  },
  {
   "cell_type": "markdown",
   "metadata": {},
   "source": [
    "Корни уравнения:\n",
    "$$\n",
    "x1 = S + T - \\frac{b}{3a}\n",
    "$$\n",
    "$$\n",
    "x2 = -\\frac{S + T}{2} - \\frac{b}{3a} - \\frac{i\\sqrt3}{3a}(S - T)\n",
    "$$\n",
    "$$\n",
    "x3 = -\\frac{S + T}{2} - \\frac{b}{3a} + \\frac{i\\sqrt3}{3a}(S - T)\n",
    "$$\n",
    "где:"
   ]
  },
  {
   "cell_type": "markdown",
   "metadata": {},
   "source": [
    "$$\n",
    "S = \\sqrt[3]{R + \\sqrt(Q^3 + R^3)}\n",
    "$$\n",
    "$$\n",
    "T = \\sqrt[3]{R - \\sqrt(Q^3 + R^3)}\n",
    "$$\n",
    "где:"
   ]
  },
  {
   "cell_type": "markdown",
   "metadata": {},
   "source": [
    "$$\n",
    "Q = \\frac{3ac - b^2}{9a^2}\n",
    "$$"
   ]
  },
  {
   "cell_type": "markdown",
   "metadata": {},
   "source": [
    "$$\n",
    "R = \\frac{9abc - 27a^2d - 2b^3}{54a^3}\n",
    "$$"
   ]
  },
  {
   "cell_type": "markdown",
   "metadata": {},
   "source": [
    "При этом выражение $D = Q^3 + R^2$ называется дискриминантом"
   ]
  },
  {
   "cell_type": "markdown",
   "metadata": {},
   "source": [
    "if $D > 0$, Один действительный корень, два комплексных"
   ]
  },
  {
   "cell_type": "markdown",
   "metadata": {},
   "source": [
    "if $D <= 0$, Все корни действительные"
   ]
  },
  {
   "cell_type": "markdown",
   "metadata": {},
   "source": [
    "### Источник с выводом формул:\n",
    "[https://proofwiki.org/wiki/Cardano's_Formula](https://proofwiki.org/wiki/Cardano's_Formula)"
   ]
  },
  {
   "cell_type": "code",
   "execution_count": 8,
   "metadata": {},
   "outputs": [],
   "source": [
    "def cardano(a, b, c, d):\n",
    "    if a == 0:\n",
    "        raise ValueError('Параметр a не может быть равен 0')\n",
    "        \n",
    "    Q = (3*a*c - b**2)/ (9*a**2)\n",
    "    R = (9*a*b*c - 27*a**2*d - 2*b**3) / (54 * a**3)\n",
    "    D = Q**3 + R**2\n",
    "\n",
    "    S = cbrt(R + np.sqrt(D))\n",
    "    T = cbrt(R - np.sqrt(D)) \n",
    "\n",
    "    if D > 0:\n",
    "        t = 0.5j * np.sqrt(3) * (S - T)\n",
    "    else:\n",
    "        t = 0.5 * np.sqrt(3) * (S - T)\n",
    "    \n",
    "    y0 = - b / (3 * a) + (S + T)\n",
    "    y1 = - b / (3 * a)  - (S + T) / 2 + t\n",
    "    y2 = - b / (3 * a)  - (S + T) / 2 -  t\n",
    "\n",
    "    return y0, y1, y2"
   ]
  },
  {
   "cell_type": "markdown",
   "metadata": {},
   "source": [
    "Функция расчёта машинного ноля(эпсилон)"
   ]
  },
  {
   "cell_type": "code",
   "execution_count": 9,
   "metadata": {},
   "outputs": [],
   "source": [
    "def get_eps():\n",
    "    return sys.float_info.epsilon"
   ]
  },
  {
   "cell_type": "code",
   "execution_count": 10,
   "metadata": {},
   "outputs": [
    {
     "data": {
      "text/plain": [
       "2.220446049250313e-16"
      ]
     },
     "execution_count": 10,
     "metadata": {},
     "output_type": "execute_result"
    }
   ],
   "source": [
    "get_eps()"
   ]
  },
  {
   "cell_type": "markdown",
   "metadata": {},
   "source": [
    "Функция для оценки точности в дальнейшем: $x^3 + 3x^2 + \\lambda^2x + 3\\lambda^2=0$"
   ]
  },
  {
   "cell_type": "code",
   "execution_count": 61,
   "metadata": {},
   "outputs": [],
   "source": [
    "def f(x, a):\n",
    "    return x**3 + 3*x**2 + a**2*x + 3*a**2;"
   ]
  },
  {
   "cell_type": "markdown",
   "metadata": {},
   "source": [
    "Работа функции, вычисления корней уравнения на примере вышеупомянутой функции"
   ]
  },
  {
   "cell_type": "code",
   "execution_count": 43,
   "metadata": {},
   "outputs": [
    {
     "data": {
      "image/png": "[encoded data removed]",
      "text/plain": [
       "<Figure size 432x288 with 1 Axes>"
      ]
     },
     "metadata": {
      "needs_background": "light"
     },
     "output_type": "display_data"
    }
   ],
   "source": [
    "xx = np.linspace(0, 100, 100)\n",
    "\n",
    "for x in xx: \n",
    "    y0 = cardano(1, 3, x**2, 3*x**2)[0]\n",
    "\n",
    "    plt.scatter(x, y0, c ='lightblue', s = 30)\n",
    "    \n",
    "plt.show()"
   ]
  },
  {
   "cell_type": "markdown",
   "metadata": {},
   "source": [
    "Оценка точности работы формулы для функции $x^3 + 3x^2 + \\lambda^2x + 3\\lambda^2=0, \\lambda \\in [0, 1/eps)$"
   ]
  },
  {
   "cell_type": "code",
   "execution_count": 55,
   "metadata": {
    "scrolled": false
   },
   "outputs": [
    {
     "data": {
      "image/png": "[encoded data removed]",
      "text/plain": [
       "<Figure size 432x288 with 1 Axes>"
      ]
     },
     "metadata": {
      "needs_background": "light"
     },
     "output_type": "display_data"
    },
    {
     "name": "stdout",
     "output_type": "stream",
     "text": [
      "Ymin=-1.0019814915266518e+31\n",
      "Ymax=1.0070305210322068e+31\n"
     ]
    }
   ],
   "source": [
    "y_min = 0\n",
    "y_max = 0\n",
    "\n",
    "xx = np.linspace(0, 1./get_eps(), 2000)\n",
    "\n",
    "for x in xx: \n",
    "    y0 = cardano(1, 3, x**2, 3*x**2)[0]\n",
    "    y = f(y0, x)\n",
    "    \n",
    "    if y != 0:\n",
    "        y_max = max(y_max, y)\n",
    "        y_min = min(y_min, y)\n",
    "    \n",
    "        plt.scatter(x, y, c = 'orange', s = 5)\n",
    "\n",
    "plt.ylim(bottom = y_min, top = y_max)\n",
    "plt.show()\n",
    "\n",
    "print('Ymin={0}'.format(y_min))\n",
    "print('Ymax={0}'.format(y_max))"
   ]
  },
  {
   "cell_type": "markdown",
   "metadata": {},
   "source": [
    "Сравнение точности работы формулы Кардано, метода Ньютона и метода Брента"
   ]
  },
  {
   "cell_type": "code",
   "execution_count": 98,
   "metadata": {},
   "outputs": [
    {
     "data": {
      "image/png": "[encoded data removed]",
      "text/plain": [
       "<Figure size 432x288 with 1 Axes>"
      ]
     },
     "metadata": {
      "needs_background": "light"
     },
     "output_type": "display_data"
    }
   ],
   "source": [
    "y_max = 0\n",
    "y_min = 0\n",
    "\n",
    "xx = np.linspace(0, 1./get_eps(), 300)\n",
    "\n",
    "for x in xx: \n",
    "    cardano_y = f(cardano(1, 3, x**2, 3*x**2)[0], x)\n",
    "    newton_y = f(opt.newton(lambda _x:f(_x, x), 0), x)\n",
    "    brentq_y = f(opt.brentq(lambda _x:f(_x, x), -99999, 999999), x)\n",
    "    \n",
    "    if newton_y != 0:\n",
    "        y_max = max(y_max, newton_y)\n",
    "        y_min = min(y_min, newton_y)\n",
    "\n",
    "        plt.scatter(x, newton_y, c = 'lightblue', s = 7)\n",
    "        \n",
    "    if cardano_y != 0:\n",
    "        y_max = max(y_max, cardano_y)\n",
    "        y_min = min(y_min, cardano_y)\n",
    "        \n",
    "        plt.scatter(x, cardano_y, c = 'orange', s = 7)\n",
    "        \n",
    "        \n",
    "    if brentq_y != 0:\n",
    "        y_max = max(y_max, brentq_y)\n",
    "        y_min = min(y_min, brentq_y)\n",
    "\n",
    "        plt.scatter(x, newton_y, c = 'red', s = 7)\n",
    "        \n",
    "        \n",
    "plt.ylim(bottom = y_min * 1.25, top = y_max * 1.25)\n",
    "plt.show()"
   ]
  },
  {
   "cell_type": "markdown",
   "metadata": {},
   "source": [
    "## Вывод\n",
    "Метод Кардано имеет большую предраспол"
   ]
  }
 ],
 "metadata": {
  "kernelspec": {
   "display_name": "Python 3",
   "language": "python",
   "name": "python3"
  },
  "language_info": {
   "codemirror_mode": {
    "name": "ipython",
    "version": 3
   },
   "file_extension": ".py",
   "mimetype": "text/x-python",
   "name": "python",
   "nbconvert_exporter": "python",
   "pygments_lexer": "ipython3",
   "version": "3.7.6"
  }
 },
 "nbformat": 4,
 "nbformat_minor": 4
}
